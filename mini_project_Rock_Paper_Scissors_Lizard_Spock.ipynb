{
  "nbformat": 4,
  "nbformat_minor": 0,
  "metadata": {
    "colab": {
      "provenance": [],
      "authorship_tag": "ABX9TyM9tIhPj98MYvz5BaFHWSY7",
      "include_colab_link": true
    },
    "kernelspec": {
      "name": "python3",
      "display_name": "Python 3"
    },
    "language_info": {
      "name": "python"
    }
  },
  "cells": [
    {
      "cell_type": "markdown",
      "metadata": {
        "id": "view-in-github",
        "colab_type": "text"
      },
      "source": [
        "<a href=\"https://colab.research.google.com/github/reneerex/mini-project-Rock-Paper-Scissors-Lizard-Spock/blob/main/mini_project_Rock_Paper_Scissors_Lizard_Spock.ipynb\" target=\"_parent\"><img src=\"https://colab.research.google.com/assets/colab-badge.svg\" alt=\"Open In Colab\"/></a>"
      ]
    },
    {
      "cell_type": "code",
      "execution_count": 2,
      "metadata": {
        "colab": {
          "base_uri": "https://localhost:8080/"
        },
        "id": "-O0zgf6VqWgQ",
        "outputId": "e1158174-41a9-44ba-8433-d420eb4d17a5"
      },
      "outputs": [
        {
          "output_type": "stream",
          "name": "stdout",
          "text": [
            "============================================\n",
            "Welcome to Rock Paper Scissors Lizard Spock!\n",
            "============================================\n",
            "Rules: \n",
            "Scissors cut Paper. \n",
            "Paper covers Rock. \n",
            "Rock crushes Lizard. \n",
            "Lizard poisons Spock. \n",
            "Spock smashes Scissors. \n",
            "Scissors beat Lizard. \n",
            "Lizard eats Paper. \n",
            "Paper disproves Spock. \n",
            "Spock vaporizes Rock. \n",
            "Rock breaks Scissors.\n",
            "1 = Rock ✊\n",
            "2 = Paper ✋\n",
            "3 = Scissors ✌️\n",
            "4 = Lizard 🦎\n",
            "5 = Spock 🖖\n",
            "Pick a number: 5\n",
            "\n",
            "You chose:  Spock 🖖\n",
            "Computer chose:  Scissors ✌️\n",
            "You win! 🎉\n"
          ]
        }
      ],
      "source": [
        "import random as r\n",
        "print('============================================')\n",
        "print(\"Welcome to Rock Paper Scissors Lizard Spock!\")\n",
        "print('============================================')\n",
        "print(\"Rules: \\nScissors cut Paper. \\nPaper covers Rock. \\nRock crushes Lizard. \\nLizard poisons Spock. \\nSpock smashes Scissors. \\nScissors beat Lizard. \\nLizard eats Paper. \\nPaper disproves Spock. \\nSpock vaporizes Rock. \\nRock breaks Scissors.\")\n",
        "\n",
        "options = {1: \"Rock ✊\", 2: \"Paper ✋\", 3: \"Scissors ✌️\", 4: \"Lizard 🦎\", 5: \"Spock 🖖\"}\n",
        "\n",
        "for key, value in options.items():\n",
        "    print(f\"{key} = {value}\")\n",
        "\n",
        "x = int(input(\"Pick a number: \"))\n",
        "k = r.randint(1,5)\n",
        "\n",
        "rules = {1: [3, 4], 2: [1, 5], 3: [2, 4], 4: [2, 5], 5:[1, 3]} #key beats value\n",
        "\n",
        "print(\"\\nYou chose: \",options[x])\n",
        "print(\"Computer chose: \",options[k])\n",
        "\n",
        "if x == k:\n",
        "    print(\"It's a tie!\")\n",
        "elif k in rules[x]:\n",
        "    print(\"You win! 🎉\")\n",
        "else:\n",
        "    print(\"You lose! 💻\")"
      ]
    }
  ]
}